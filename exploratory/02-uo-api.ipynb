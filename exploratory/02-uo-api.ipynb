{
 "cells": [
  {
   "cell_type": "markdown",
   "metadata": {},
   "source": [
    "### Getting historical data from a single UO sensor via REST API\n",
    "We use Python programming language to access data for a single rainfall sensor with ID ‘PER_ENVIRONMENT_008062_EA_TPRG_WEAT’ for last year historical data. The code sample below can be modified to query any other UO sensor for arbitrary date range."
   ]
  },
  {
   "cell_type": "code",
   "execution_count": 1,
   "metadata": {},
   "outputs": [],
   "source": [
    "# load libraries\n",
    "import requests     # HTTP library\n",
    "import pandas as pd # data analysis library\n",
    "import datetime     # module for manipulating dates and times\n",
    "import seaborn as sns           # statistical visualization library\n",
    "import matplotlib.pyplot as plt # plotting library"
   ]
  },
  {
   "cell_type": "code",
   "execution_count": 14,
   "metadata": {},
   "outputs": [],
   "source": [
    "# Urban Observatory API endpoint\n",
    "API_endpoint = \"http://uoweb3.ncl.ac.uk/api/v1.1/sensors/{}/data/json/\" \n",
    "# UO sensor ID\n",
    "SENSOR_NAME = 'PER_ENVIRONMENT_008062_EA_TPRG_WEAT' "
   ]
  },
  {
   "cell_type": "code",
   "execution_count": 21,
   "metadata": {},
   "outputs": [],
   "source": [
    "# select a start date and end date for the queried data \n",
    "FROM_DATE = datetime.date(2022, 3, 1) # year, month, day \n",
    "TO_DATE = datetime.date(2022, 3, 18)"
   ]
  },
  {
   "cell_type": "code",
   "execution_count": 22,
   "metadata": {},
   "outputs": [],
   "source": [
    "# format the HTTP request parameters\n",
    "params = {'starttime': FROM_DATE.strftime('%Y%m%d'), 'endtime': TO_DATE.strftime('%Y%m%d')} \n",
    "api_url = API_endpoint.format(SENSOR_NAME)"
   ]
  },
  {
   "cell_type": "code",
   "execution_count": 23,
   "metadata": {},
   "outputs": [],
   "source": [
    "# make the API call\n",
    "# depending on the selected time range -- this request can take a while\n",
    "response = requests.get(api_url, params=params) \n",
    "sensor_data = response.json()"
   ]
  },
  {
   "cell_type": "code",
   "execution_count": 24,
   "metadata": {},
   "outputs": [],
   "source": [
    "# format the response to data frame and parse timestamp to human readable format \n",
    "rain_df = pd.DataFrame(sensor_data['sensors'][0]['data']['Rain'])\n",
    "rain_df['ts'] = pd.to_datetime(rain_df['Timestamp']/1000, unit='s')"
   ]
  },
  {
   "cell_type": "code",
   "execution_count": 50,
   "metadata": {},
   "outputs": [
    {
     "name": "stdout",
     "output_type": "stream",
     "text": [
      "dict_keys(['Location (WKT)', 'Broker Name', 'data', 'Sensor Name', 'Third Party', 'Ground Height Above Sea Level', 'Sensor Centroid Longitude', 'Sensor Height Above Ground', 'Raw ID', 'Sensor Centroid Latitude'])\n"
     ]
    }
   ],
   "source": [
    "# get additional information about the sensor\n",
    "print(sensor_data['sensors'][0].keys())"
   ]
  },
  {
   "cell_type": "code",
   "execution_count": 51,
   "metadata": {},
   "outputs": [
    {
     "name": "stdout",
     "output_type": "stream",
     "text": [
      "lat, lon:  55.132825 -1.538065\n"
     ]
    }
   ],
   "source": [
    "# get sensor location\n",
    "print(\"lat, lon: \",\n",
    "      sensor_data['sensors'][0]['Sensor Centroid Latitude']['0'],\n",
    "      sensor_data['sensors'][0]['Sensor Centroid Longitude']['0'])"
   ]
  },
  {
   "cell_type": "code",
   "execution_count": 31,
   "metadata": {},
   "outputs": [
    {
     "data": {
      "image/png": "[encoded data removed]",
      "text/plain": [
       "<Figure size 720x432 with 1 Axes>"
      ]
     },
     "metadata": {},
     "output_type": "display_data"
    }
   ],
   "source": [
    "# plot the rain data\n",
    "sns.set_style('whitegrid')\n",
    "plt.gcf().set_size_inches(10, 6)\n",
    "sns.lineplot(x='ts', y='Value', data=rain_df)\n",
    "plt.ylabel('Rainfall (mm)')\n",
    "plt.xlabel('Date')\n",
    "plt.xticks(rotation=45)\n",
    "plt.show()"
   ]
  },
  {
   "cell_type": "markdown",
   "metadata": {},
   "source": [
    "### List UO sensors by theme\n",
    "Urban Observatory API can be used to query sensor names by themes\n",
    "Available themes: 'People', 'Vehicles', 'Weather', 'Air Quality', 'Water Level', 'Bee Hive', 'Soil', 'Traffic', 'Building', 'Water Quality', 'Seismic', 'Sewage', 'Noise', 'Light', 'Electrical'"
   ]
  },
  {
   "cell_type": "code",
   "execution_count": 13,
   "metadata": {},
   "outputs": [
    {
     "name": "stdout",
     "output_type": "stream",
     "text": [
      "Theme: Weather returned 611 sensors\n",
      "First five sensors:  ['PER_AIRMON_MESH1903150', 'PER_AIRMON_MESH1757150', 'PER_AIRMON_MESH1960150', 'PER_AIRMON_MESH1977150', 'PER_AIRMON_MESH1918150']\n"
     ]
    }
   ],
   "source": [
    "API_endpoint = \"http://uoweb3.ncl.ac.uk/api/v1.1/sensors/json/\"\n",
    "query = {'theme':'Weather'} \n",
    "response = requests.get(API_endpoint, params=query)\n",
    "theme_response = response.json()\n",
    "sensor_names = [sensor['Sensor Name'] for sensor in theme_response['sensors']] \n",
    "print(f\"Theme: {query['theme']} returned {len(theme_response['sensors'])} sensors\")\n",
    "\n",
    "# first five sensor names \n",
    "print('First five sensors: ', sensor_names[0:5])"
   ]
  }
 ],
 "metadata": {
  "interpreter": {
   "hash": "f2d61505a9cf9947242bae7381c7a5640e0ee93188b330f44220dfe5518a3d84"
  },
  "kernelspec": {
   "display_name": "Python 3.9.7 ('EDA')",
   "language": "python",
   "name": "python3"
  },
  "language_info": {
   "codemirror_mode": {
    "name": "ipython",
    "version": 3
   },
   "file_extension": ".py",
   "mimetype": "text/x-python",
   "name": "python",
   "nbconvert_exporter": "python",
   "pygments_lexer": "ipython3",
   "version": "3.9.7"
  },
  "orig_nbformat": 4
 },
 "nbformat": 4,
 "nbformat_minor": 2
}
